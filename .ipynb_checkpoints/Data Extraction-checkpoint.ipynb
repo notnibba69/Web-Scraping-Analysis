{
 "cells": [
  {
   "cell_type": "markdown",
   "id": "3921f076",
   "metadata": {},
   "source": [
    "Making a csv file with extracted data "
   ]
  },
  {
   "cell_type": "code",
   "execution_count": 1,
   "id": "0c95649d",
   "metadata": {},
   "outputs": [],
   "source": [
    "import pandas as pd"
   ]
  },
  {
   "cell_type": "code",
   "execution_count": 2,
   "id": "5b1921ce",
   "metadata": {},
   "outputs": [],
   "source": [
    "website_dataframe = pd.read_excel('input.xlsx')"
   ]
  },
  {
   "cell_type": "code",
   "execution_count": 3,
   "id": "01e527c5",
   "metadata": {},
   "outputs": [],
   "source": [
    "web2 = website_dataframe.copy()"
   ]
  },
  {
   "cell_type": "code",
   "execution_count": 4,
   "id": "49e461ad",
   "metadata": {},
   "outputs": [],
   "source": [
    "websites_list = list(web2['URL'])"
   ]
  },
  {
   "cell_type": "code",
   "execution_count": 5,
   "id": "49ea0749",
   "metadata": {},
   "outputs": [
    {
     "data": {
      "text/plain": [
       "100"
      ]
     },
     "execution_count": 5,
     "metadata": {},
     "output_type": "execute_result"
    }
   ],
   "source": [
    "print(len(websites_list))"
   ]
  },
  {
   "cell_type": "code",
   "execution_count": 6,
   "id": "caffce8b",
   "metadata": {},
   "outputs": [],
   "source": [
    "import requests\n",
    "from bs4 import BeautifulSoup"
   ]
  },
  {
   "cell_type": "code",
   "execution_count": 7,
   "id": "58fc8ec2",
   "metadata": {},
   "outputs": [],
   "source": [
    "web_list = []\n",
    "class_name = 'td-post-content tagdiv-type'\n",
    "pic_class=\"tdb-block-inner td-fix-index\"\n",
    "\n",
    "\n",
    "def extract_text_from_url(websites_list): #LIST OVER HERE OF WEBSITES\n",
    "    for url in websites_list: \n",
    "        text_for_each_website = ''\n",
    "        try:\n",
    "            response = requests.get(url)\n",
    "        \n",
    "            # Parse the HTML content of the page\n",
    "            soup = BeautifulSoup(response.content, 'html.parser')\n",
    "            # Find and extract the textual data\n",
    "            mydivs = soup.find_all(\"div\", class_=class_name)\n",
    "            for div in mydivs:\n",
    "                text_for_each_website+= div.text\n",
    "                \n",
    "            # for url with error 404\n",
    "            if url == web2['URL'][35] or url == web2['URL'][48]:\n",
    "                web_list.append(text_for_each_website)\n",
    "                continue\n",
    "            \n",
    "            # for websites which have different classes\n",
    "            if text_for_each_website == '':\n",
    "                mydivs = soup.find_all(\"div\", class_=pic_class)\n",
    "                for div in mydivs:\n",
    "                    text_for_each_website+= div.text\n",
    "                \n",
    "            web_list.append(text_for_each_website) #APPEND THE LIST\n",
    "            \n",
    "        except requests.exceptions.RequestException as e:\n",
    "            print(\"Error:\", e)\n",
    "            return None\n",
    "\n",
    "extract_text_from_url(websites_list)"
   ]
  },
  {
   "cell_type": "code",
   "execution_count": 8,
   "id": "2c1f2685",
   "metadata": {},
   "outputs": [
    {
     "name": "stdout",
     "output_type": "stream",
     "text": [
      "Empty elements with their indexes:\n",
      "Index: 35, Value: \n",
      "Index: 48, Value: \n"
     ]
    }
   ],
   "source": [
    "empty_elements_with_indexes = [(index, element) for index, element in enumerate(web_list) if not element]\n",
    "\n",
    "print(\"Empty elements with their indexes:\")\n",
    "for index, element in empty_elements_with_indexes:\n",
    "    print(f\"Index: {index}, Value: {element}\")"
   ]
  },
  {
   "cell_type": "code",
   "execution_count": 9,
   "id": "1cb5864e",
   "metadata": {},
   "outputs": [
    {
     "name": "stdout",
     "output_type": "stream",
     "text": [
      "100\n"
     ]
    }
   ],
   "source": [
    "print(len(web_list))"
   ]
  },
  {
   "cell_type": "code",
   "execution_count": 10,
   "id": "77508f0c",
   "metadata": {},
   "outputs": [
    {
     "data": {
      "text/html": [
       "<div>\n",
       "<style scoped>\n",
       "    .dataframe tbody tr th:only-of-type {\n",
       "        vertical-align: middle;\n",
       "    }\n",
       "\n",
       "    .dataframe tbody tr th {\n",
       "        vertical-align: top;\n",
       "    }\n",
       "\n",
       "    .dataframe thead th {\n",
       "        text-align: right;\n",
       "    }\n",
       "</style>\n",
       "<table border=\"1\" class=\"dataframe\">\n",
       "  <thead>\n",
       "    <tr style=\"text-align: right;\">\n",
       "      <th></th>\n",
       "      <th>URL_ID</th>\n",
       "      <th>URL</th>\n",
       "      <th>article_text</th>\n",
       "    </tr>\n",
       "  </thead>\n",
       "  <tbody>\n",
       "    <tr>\n",
       "      <th>0</th>\n",
       "      <td>blackassign0001</td>\n",
       "      <td>https://insights.blackcoffer.com/rising-it-cit...</td>\n",
       "      <td>\\nWe have seen a huge development and dependen...</td>\n",
       "    </tr>\n",
       "    <tr>\n",
       "      <th>1</th>\n",
       "      <td>blackassign0002</td>\n",
       "      <td>https://insights.blackcoffer.com/rising-it-cit...</td>\n",
       "      <td>\\nThroughout history, from the industrial revo...</td>\n",
       "    </tr>\n",
       "    <tr>\n",
       "      <th>2</th>\n",
       "      <td>blackassign0003</td>\n",
       "      <td>https://insights.blackcoffer.com/internet-dema...</td>\n",
       "      <td>\\nIntroduction\\nIn the span of just a few deca...</td>\n",
       "    </tr>\n",
       "    <tr>\n",
       "      <th>3</th>\n",
       "      <td>blackassign0004</td>\n",
       "      <td>https://insights.blackcoffer.com/rise-of-cyber...</td>\n",
       "      <td>\\nThe way we live, work, and communicate has u...</td>\n",
       "    </tr>\n",
       "    <tr>\n",
       "      <th>4</th>\n",
       "      <td>blackassign0005</td>\n",
       "      <td>https://insights.blackcoffer.com/ott-platform-...</td>\n",
       "      <td>\\nThe year 2040 is poised to witness a continu...</td>\n",
       "    </tr>\n",
       "    <tr>\n",
       "      <th>...</th>\n",
       "      <td>...</td>\n",
       "      <td>...</td>\n",
       "      <td>...</td>\n",
       "    </tr>\n",
       "    <tr>\n",
       "      <th>95</th>\n",
       "      <td>blackassign0096</td>\n",
       "      <td>https://insights.blackcoffer.com/what-is-the-r...</td>\n",
       "      <td>\\nEpidemics, in general, have both direct and ...</td>\n",
       "    </tr>\n",
       "    <tr>\n",
       "      <th>96</th>\n",
       "      <td>blackassign0097</td>\n",
       "      <td>https://insights.blackcoffer.com/impact-of-cov...</td>\n",
       "      <td>\\nCOVID 19 has bought the world to its knees. ...</td>\n",
       "    </tr>\n",
       "    <tr>\n",
       "      <th>97</th>\n",
       "      <td>blackassign0098</td>\n",
       "      <td>https://insights.blackcoffer.com/contribution-...</td>\n",
       "      <td>\\nHandicrafts is an art of making crafts by ha...</td>\n",
       "    </tr>\n",
       "    <tr>\n",
       "      <th>98</th>\n",
       "      <td>blackassign0099</td>\n",
       "      <td>https://insights.blackcoffer.com/how-covid-19-...</td>\n",
       "      <td>Saturday, March 2, 2024Sign in / JoinSearchHom...</td>\n",
       "    </tr>\n",
       "    <tr>\n",
       "      <th>99</th>\n",
       "      <td>blackassign0100</td>\n",
       "      <td>https://insights.blackcoffer.com/how-will-covi...</td>\n",
       "      <td>Saturday, March 2, 2024Sign in / JoinSearchHom...</td>\n",
       "    </tr>\n",
       "  </tbody>\n",
       "</table>\n",
       "<p>100 rows × 3 columns</p>\n",
       "</div>"
      ],
      "text/plain": [
       "             URL_ID                                                URL  \\\n",
       "0   blackassign0001  https://insights.blackcoffer.com/rising-it-cit...   \n",
       "1   blackassign0002  https://insights.blackcoffer.com/rising-it-cit...   \n",
       "2   blackassign0003  https://insights.blackcoffer.com/internet-dema...   \n",
       "3   blackassign0004  https://insights.blackcoffer.com/rise-of-cyber...   \n",
       "4   blackassign0005  https://insights.blackcoffer.com/ott-platform-...   \n",
       "..              ...                                                ...   \n",
       "95  blackassign0096  https://insights.blackcoffer.com/what-is-the-r...   \n",
       "96  blackassign0097  https://insights.blackcoffer.com/impact-of-cov...   \n",
       "97  blackassign0098  https://insights.blackcoffer.com/contribution-...   \n",
       "98  blackassign0099  https://insights.blackcoffer.com/how-covid-19-...   \n",
       "99  blackassign0100  https://insights.blackcoffer.com/how-will-covi...   \n",
       "\n",
       "                                         article_text  \n",
       "0   \\nWe have seen a huge development and dependen...  \n",
       "1   \\nThroughout history, from the industrial revo...  \n",
       "2   \\nIntroduction\\nIn the span of just a few deca...  \n",
       "3   \\nThe way we live, work, and communicate has u...  \n",
       "4   \\nThe year 2040 is poised to witness a continu...  \n",
       "..                                                ...  \n",
       "95  \\nEpidemics, in general, have both direct and ...  \n",
       "96  \\nCOVID 19 has bought the world to its knees. ...  \n",
       "97  \\nHandicrafts is an art of making crafts by ha...  \n",
       "98  Saturday, March 2, 2024Sign in / JoinSearchHom...  \n",
       "99  Saturday, March 2, 2024Sign in / JoinSearchHom...  \n",
       "\n",
       "[100 rows x 3 columns]"
      ]
     },
     "execution_count": 10,
     "metadata": {},
     "output_type": "execute_result"
    }
   ],
   "source": [
    "web2['article_text'] = web_list\n",
    "print(web2..head())"
   ]
  },
  {
   "cell_type": "code",
   "execution_count": 11,
   "id": "3886ceb8",
   "metadata": {},
   "outputs": [],
   "source": [
    "from numpy import nan"
   ]
  },
  {
   "cell_type": "code",
   "execution_count": 12,
   "id": "b6168a40",
   "metadata": {},
   "outputs": [],
   "source": [
    "web2['article_text'][web2['article_text'] == ''] = nan"
   ]
  },
  {
   "cell_type": "code",
   "execution_count": 13,
   "id": "c02aa5d4",
   "metadata": {},
   "outputs": [
    {
     "data": {
      "text/plain": [
       "URL_ID          0\n",
       "URL             0\n",
       "article_text    2\n",
       "dtype: int64"
      ]
     },
     "execution_count": 13,
     "metadata": {},
     "output_type": "execute_result"
    }
   ],
   "source": [
    "print(web2.isnull().sum())"
   ]
  },
  {
   "cell_type": "code",
   "execution_count": 14,
   "id": "44489497",
   "metadata": {},
   "outputs": [],
   "source": [
    "web2 = web2.dropna()"
   ]
  },
  {
   "cell_type": "code",
   "execution_count": 20,
   "id": "ebd1cd48",
   "metadata": {},
   "outputs": [],
   "source": [
    "# Since the extracted text had some extra text towards the end, a list is made of the extra text and then altered the main article text\n",
    "# also made a list of titles of all the articles since we were using the url to access the website again\n",
    "class_name = 'wp-block-preformatted'\n",
    "list_of_text_remove = []\n",
    "title_list = []\n",
    "num = 0\n",
    "for url in web2['URL']:\n",
    "    \n",
    "    response = requests.get(url)\n",
    "    soup = BeautifulSoup(response.content, 'html.parser')    \n",
    "    # get the title\n",
    "    title = soup.title\n",
    "    title_list.append(title.string)\n",
    "    # Find and extract the textual data\n",
    "    text_to_strip = ''\n",
    "    try:\n",
    "        mydivs = soup.find(\"pre\", class_=class_name)\n",
    "        text_to_strip+= mydivs.text\n",
    "    except AttributeError:\n",
    "        list_of_text_remove.append('')\n",
    "        continue\n",
    "    list_of_text_remove.append(text_to_strip)"
   ]
  },
  {
   "cell_type": "code",
   "execution_count": 21,
   "id": "4934dd69",
   "metadata": {},
   "outputs": [
    {
     "data": {
      "text/plain": [
       "98"
      ]
     },
     "execution_count": 21,
     "metadata": {},
     "output_type": "execute_result"
    }
   ],
   "source": [
    "print(len(list_of_text_remove))"
   ]
  },
  {
   "cell_type": "code",
   "execution_count": 22,
   "id": "77ef19b3",
   "metadata": {},
   "outputs": [
    {
     "name": "stderr",
     "output_type": "stream",
     "text": [
      "C:\\Users\\dhruv\\AppData\\Local\\Temp\\ipykernel_24184\\830033316.py:1: SettingWithCopyWarning: \n",
      "A value is trying to be set on a copy of a slice from a DataFrame.\n",
      "Try using .loc[row_indexer,col_indexer] = value instead\n",
      "\n",
      "See the caveats in the documentation: https://pandas.pydata.org/pandas-docs/stable/user_guide/indexing.html#returning-a-view-versus-a-copy\n",
      "  web2['text_to_delete'] = list_of_text_remove\n"
     ]
    }
   ],
   "source": [
    "web2['text_to_delete'] = list_of_text_remove"
   ]
  },
  {
   "cell_type": "code",
   "execution_count": 23,
   "id": "1839722b",
   "metadata": {},
   "outputs": [],
   "source": [
    "article_text_list = list(web2['article_text'])"
   ]
  },
  {
   "cell_type": "code",
   "execution_count": 24,
   "id": "39042c97",
   "metadata": {},
   "outputs": [
    {
     "data": {
      "text/plain": [
       "98"
      ]
     },
     "execution_count": 24,
     "metadata": {},
     "output_type": "execute_result"
    }
   ],
   "source": [
    "print(len(article_text_list))"
   ]
  },
  {
   "cell_type": "code",
   "execution_count": 39,
   "id": "774fa282",
   "metadata": {},
   "outputs": [],
   "source": [
    "text_to_delete_list = list_of_text_remove.copy()"
   ]
  },
  {
   "cell_type": "code",
   "execution_count": 26,
   "id": "981b0450",
   "metadata": {},
   "outputs": [
    {
     "data": {
      "text/plain": [
       "98"
      ]
     },
     "execution_count": 26,
     "metadata": {},
     "output_type": "execute_result"
    }
   ],
   "source": [
    "print(len(text_to_delete_list))"
   ]
  },
  {
   "cell_type": "code",
   "execution_count": 27,
   "id": "84793f66",
   "metadata": {},
   "outputs": [],
   "source": [
    "# Stripping '\\n' because the 'strip' function was not detecting the text_to_delete_list function's data\n",
    "for i in range(len(article_text_list)):\n",
    "    article_text_list[i] = article_text_list[i].rstrip('\\n')\n",
    "    article_text_list[i] = article_text_list[i].lstrip('\\n')"
   ]
  },
  {
   "cell_type": "code",
   "execution_count": 28,
   "id": "bc67c5de",
   "metadata": {},
   "outputs": [],
   "source": [
    "final_data = []\n",
    "for i in range(len(article_text_list)):\n",
    "    final_data.append(article_text_list[i].strip(text_to_delete_list[i]))"
   ]
  },
  {
   "cell_type": "code",
   "execution_count": 29,
   "id": "89843594",
   "metadata": {},
   "outputs": [
    {
     "name": "stderr",
     "output_type": "stream",
     "text": [
      "C:\\Users\\dhruv\\AppData\\Local\\Temp\\ipykernel_24184\\2591746895.py:1: SettingWithCopyWarning: \n",
      "A value is trying to be set on a copy of a slice from a DataFrame.\n",
      "Try using .loc[row_indexer,col_indexer] = value instead\n",
      "\n",
      "See the caveats in the documentation: https://pandas.pydata.org/pandas-docs/stable/user_guide/indexing.html#returning-a-view-versus-a-copy\n",
      "  web2['Article_text'] = final_data\n"
     ]
    }
   ],
   "source": [
    "web2['Article_text'] = final_data"
   ]
  },
  {
   "cell_type": "code",
   "execution_count": 30,
   "id": "2f09938a",
   "metadata": {},
   "outputs": [
    {
     "name": "stderr",
     "output_type": "stream",
     "text": [
      "C:\\Users\\dhruv\\AppData\\Local\\Temp\\ipykernel_24184\\2200630542.py:1: SettingWithCopyWarning: \n",
      "A value is trying to be set on a copy of a slice from a DataFrame.\n",
      "Try using .loc[row_indexer,col_indexer] = value instead\n",
      "\n",
      "See the caveats in the documentation: https://pandas.pydata.org/pandas-docs/stable/user_guide/indexing.html#returning-a-view-versus-a-copy\n",
      "  web2['Title'] = title_list\n"
     ]
    }
   ],
   "source": [
    "web2['Title'] = title_list"
   ]
  },
  {
   "cell_type": "code",
   "execution_count": 31,
   "id": "446a85b7",
   "metadata": {},
   "outputs": [],
   "source": [
    "web2 = web2.drop(['article_text', 'text_to_delete'], axis = 1)"
   ]
  },
  {
   "cell_type": "code",
   "execution_count": 40,
   "id": "73452e47",
   "metadata": {},
   "outputs": [
    {
     "data": {
      "text/html": [
       "<div>\n",
       "<style scoped>\n",
       "    .dataframe tbody tr th:only-of-type {\n",
       "        vertical-align: middle;\n",
       "    }\n",
       "\n",
       "    .dataframe tbody tr th {\n",
       "        vertical-align: top;\n",
       "    }\n",
       "\n",
       "    .dataframe thead th {\n",
       "        text-align: right;\n",
       "    }\n",
       "</style>\n",
       "<table border=\"1\" class=\"dataframe\">\n",
       "  <thead>\n",
       "    <tr style=\"text-align: right;\">\n",
       "      <th></th>\n",
       "      <th>URL_ID</th>\n",
       "      <th>URL</th>\n",
       "      <th>Article_text</th>\n",
       "      <th>Title</th>\n",
       "    </tr>\n",
       "  </thead>\n",
       "  <tbody>\n",
       "    <tr>\n",
       "      <th>0</th>\n",
       "      <td>blackassign0001</td>\n",
       "      <td>https://insights.blackcoffer.com/rising-it-cit...</td>\n",
       "      <td>. We have also seen the development of AI and ...</td>\n",
       "      <td>Rising IT cities and its impact on the economy...</td>\n",
       "    </tr>\n",
       "    <tr>\n",
       "      <th>1</th>\n",
       "      <td>blackassign0002</td>\n",
       "      <td>https://insights.blackcoffer.com/rising-it-cit...</td>\n",
       "      <td>Throughout history, from the industrial revolu...</td>\n",
       "      <td>Rising IT Cities and Their Impact on the Econo...</td>\n",
       "    </tr>\n",
       "    <tr>\n",
       "      <th>2</th>\n",
       "      <td>blackassign0003</td>\n",
       "      <td>https://insights.blackcoffer.com/internet-dema...</td>\n",
       "      <td>duction\\nIn the span of just a few decades, th...</td>\n",
       "      <td>Internet Demand's Evolution, Communication Imp...</td>\n",
       "    </tr>\n",
       "    <tr>\n",
       "      <th>3</th>\n",
       "      <td>blackassign0004</td>\n",
       "      <td>https://insights.blackcoffer.com/rise-of-cyber...</td>\n",
       "      <td>The way we live, work, and communicate has unq...</td>\n",
       "      <td>Rise of Cybercrime and its Effect in upcoming ...</td>\n",
       "    </tr>\n",
       "    <tr>\n",
       "      <th>4</th>\n",
       "      <td>blackassign0005</td>\n",
       "      <td>https://insights.blackcoffer.com/ott-platform-...</td>\n",
       "      <td>The year 2040 is poised to witness a continued...</td>\n",
       "      <td>OTT platform and its impact on the entertainme...</td>\n",
       "    </tr>\n",
       "  </tbody>\n",
       "</table>\n",
       "</div>"
      ],
      "text/plain": [
       "            URL_ID                                                URL  \\\n",
       "0  blackassign0001  https://insights.blackcoffer.com/rising-it-cit...   \n",
       "1  blackassign0002  https://insights.blackcoffer.com/rising-it-cit...   \n",
       "2  blackassign0003  https://insights.blackcoffer.com/internet-dema...   \n",
       "3  blackassign0004  https://insights.blackcoffer.com/rise-of-cyber...   \n",
       "4  blackassign0005  https://insights.blackcoffer.com/ott-platform-...   \n",
       "\n",
       "                                        Article_text  \\\n",
       "0  . We have also seen the development of AI and ...   \n",
       "1  Throughout history, from the industrial revolu...   \n",
       "2  duction\\nIn the span of just a few decades, th...   \n",
       "3  The way we live, work, and communicate has unq...   \n",
       "4  The year 2040 is poised to witness a continued...   \n",
       "\n",
       "                                               Title  \n",
       "0  Rising IT cities and its impact on the economy...  \n",
       "1  Rising IT Cities and Their Impact on the Econo...  \n",
       "2  Internet Demand's Evolution, Communication Imp...  \n",
       "3  Rise of Cybercrime and its Effect in upcoming ...  \n",
       "4  OTT platform and its impact on the entertainme...  "
      ]
     },
     "execution_count": 40,
     "metadata": {},
     "output_type": "execute_result"
    }
   ],
   "source": [
    "print(web2.head())"
   ]
  },
  {
   "cell_type": "code",
   "execution_count": null,
   "id": "f98d65cd",
   "metadata": {},
   "outputs": [],
   "source": [
    "web2.to_csv('data1.csv')"
   ]
  },
  {
   "cell_type": "code",
   "execution_count": null,
   "id": "7ab8dc42",
   "metadata": {},
   "outputs": [],
   "source": []
  }
 ],
 "metadata": {
  "kernelspec": {
   "display_name": "Python 3 (ipykernel)",
   "language": "python",
   "name": "python3"
  },
  "language_info": {
   "codemirror_mode": {
    "name": "ipython",
    "version": 3
   },
   "file_extension": ".py",
   "mimetype": "text/x-python",
   "name": "python",
   "nbconvert_exporter": "python",
   "pygments_lexer": "ipython3",
   "version": "3.11.5"
  }
 },
 "nbformat": 4,
 "nbformat_minor": 5
}
